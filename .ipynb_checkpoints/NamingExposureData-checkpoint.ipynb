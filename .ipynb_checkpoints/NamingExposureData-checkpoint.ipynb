{
 "cells": [
  {
   "cell_type": "markdown",
   "metadata": {},
   "source": [
    "## Images (converted to bmp) are currently just randomly names 0-9, with no labelling in regards to exposure. Going to use the max intesnoty value to rename the images according to exposure and camera settings e.g. 2GyAsecondauto1000.bmp\n"
   ]
  },
  {
   "cell_type": "markdown",
   "metadata": {},
   "source": [
    "### Read in files from the bmp directory"
   ]
  },
  {
   "cell_type": "code",
   "execution_count": 68,
   "metadata": {},
   "outputs": [
    {
     "name": "stdout",
     "output_type": "stream",
     "text": [
      "Date and time  2021-09-01 15:56:46.971899\n",
      "image_dir is:  ../CometImages/CA210819/Collated/ControlAsecond/full/bmp/*.bmp\n",
      "Files read in (whole path) are ['../CometImages/CA210819/Collated/ControlAsecond/full/bmp/000.bmp', '../CometImages/CA210819/Collated/ControlAsecond/full/bmp/001.bmp', '../CometImages/CA210819/Collated/ControlAsecond/full/bmp/002.bmp', '../CometImages/CA210819/Collated/ControlAsecond/full/bmp/003.bmp', '../CometImages/CA210819/Collated/ControlAsecond/full/bmp/004.bmp', '../CometImages/CA210819/Collated/ControlAsecond/full/bmp/005.bmp', '../CometImages/CA210819/Collated/ControlAsecond/full/bmp/006.bmp', '../CometImages/CA210819/Collated/ControlAsecond/full/bmp/007.bmp', '../CometImages/CA210819/Collated/ControlAsecond/full/bmp/008.bmp', '../CometImages/CA210819/Collated/ControlAsecond/full/bmp/009.bmp']\n",
      "\n",
      "File names (with extension) are: ['000.bmp', '001.bmp', '002.bmp', '003.bmp', '004.bmp', '005.bmp', '006.bmp', '007.bmp', '008.bmp', '009.bmp']\n",
      "\n",
      " 10  files will be analysed\n",
      "\n",
      "fileNamesSplit is:  ['000' '001' '002' '003' '004' '005' '006' '007' '008' '009']\n",
      " \n",
      "Date and time 2021-09-01 15:56:46.975572\n",
      "Time since last check is 0:00:00.003673\n"
     ]
    }
   ],
   "source": [
    "import glob\n",
    "import os\n",
    "import sys\n",
    "import numpy as np\n",
    "import scipy.ndimage as scimg\n",
    "import cv2\n",
    "from PIL import Image\n",
    "import matplotlib.pyplot as plt\n",
    "%matplotlib inline\n",
    "import datetime\n",
    "now = datetime.datetime.now()\n",
    "print(\"Date and time \",str(now))\n",
    "\n",
    "############################\n",
    "#\n",
    "dose_key = 'ControlAsecond'\n",
    "contrast_key = 'full'\n",
    "dir_key = dose_key + '/' + contrast_key\n",
    "root_dir = '../CometImages/CA210819/Collated/' + dir_key + '/bmp/'\n",
    "image_dir = root_dir\n",
    "#\n",
    "image_dir = root_dir + '*.bmp'  #where the image directory is - find all bmp files here\n",
    "\n",
    "print(\"image_dir is: \", image_dir)\n",
    "fileList= sorted(glob.glob(image_dir))  #whole file path, as set in above line\n",
    "print(\"Files read in (whole path) are\", fileList)\n",
    "#\n",
    "fileNames = [os.path.basename(x) for x in sorted(glob.glob(image_dir))]  #only file name with extension\n",
    "print(\"\\nFile names (with extension) are:\", fileNames)\n",
    "#\n",
    "nFiles = len(fileNames)\n",
    "print(\"\\n\",nFiles, \" files will be analysed\")\n",
    "#\n",
    "fileNamesSplit = np.empty((nFiles), dtype = 'object')\n",
    "for n in range (0, nFiles):\n",
    "    x = fileNames[n]\n",
    "    fileNamesSplit[n] = os.path.splitext(x)[0]   #remove extension from file name\n",
    "print(\"\\nfileNamesSplit is: \", fileNamesSplit)\n",
    "#\n",
    "#\n",
    "then = now\n",
    "now = datetime.datetime.now()\n",
    "print(\" \")\n",
    "print(\"Date and time\",str(now))\n",
    "print(\"Time since last check is\",str(now - then))"
   ]
  },
  {
   "cell_type": "markdown",
   "metadata": {},
   "source": [
    "### Find min and max intesnsities of each image and write to array. Order array ascending order according to max intensity (to order the file names) and then rename as Dose,position,contrast,exposure"
   ]
  },
  {
   "cell_type": "code",
   "execution_count": 70,
   "metadata": {},
   "outputs": [
    {
     "name": "stdout",
     "output_type": "stream",
     "text": [
      "Date and time  2021-09-01 16:38:23.566768\n",
      "shape of imgIntesnities is:  (10, 3)\n"
     ]
    },
    {
     "ename": "FileNotFoundError",
     "evalue": "[Errno 2] No such file or directory: '../CometImages/CA210819/Collated/ControlAsecond/full/bmp/000.bmp'",
     "output_type": "error",
     "traceback": [
      "\u001b[0;31m---------------------------------------------------------------------------\u001b[0m",
      "\u001b[0;31mFileNotFoundError\u001b[0m                         Traceback (most recent call last)",
      "\u001b[0;32m<ipython-input-70-dbdb50e3fb63>\u001b[0m in \u001b[0;36m<module>\u001b[0;34m()\u001b[0m\n\u001b[1;32m     11\u001b[0m     \u001b[0mfileName\u001b[0m \u001b[0;34m=\u001b[0m \u001b[0mfileNames\u001b[0m\u001b[0;34m[\u001b[0m\u001b[0mn\u001b[0m\u001b[0;34m]\u001b[0m\u001b[0;34m\u001b[0m\u001b[0m\n\u001b[1;32m     12\u001b[0m     \u001b[0;31m#\u001b[0m\u001b[0;34m\u001b[0m\u001b[0;34m\u001b[0m\u001b[0m\n\u001b[0;32m---> 13\u001b[0;31m     \u001b[0mimgRaw\u001b[0m \u001b[0;34m=\u001b[0m \u001b[0mplt\u001b[0m\u001b[0;34m.\u001b[0m\u001b[0mimread\u001b[0m\u001b[0;34m(\u001b[0m\u001b[0mimFile\u001b[0m\u001b[0;34m)\u001b[0m\u001b[0;34m\u001b[0m\u001b[0m\n\u001b[0m\u001b[1;32m     14\u001b[0m     \u001b[0mshape\u001b[0m \u001b[0;34m=\u001b[0m \u001b[0mimgRaw\u001b[0m\u001b[0;34m.\u001b[0m\u001b[0mshape\u001b[0m\u001b[0;34m\u001b[0m\u001b[0m\n\u001b[1;32m     15\u001b[0m     \u001b[0mprint\u001b[0m\u001b[0;34m(\u001b[0m\u001b[0;34m\"shape is: \"\u001b[0m\u001b[0;34m,\u001b[0m \u001b[0mshape\u001b[0m\u001b[0;34m)\u001b[0m\u001b[0;34m\u001b[0m\u001b[0m\n",
      "\u001b[0;32m/home/selina/anaconda3/lib/python3.5/site-packages/matplotlib/pyplot.py\u001b[0m in \u001b[0;36mimread\u001b[0;34m(*args, **kwargs)\u001b[0m\n\u001b[1;32m   2252\u001b[0m \u001b[0;34m@\u001b[0m\u001b[0mdocstring\u001b[0m\u001b[0;34m.\u001b[0m\u001b[0mcopy_dedent\u001b[0m\u001b[0;34m(\u001b[0m\u001b[0m_imread\u001b[0m\u001b[0;34m)\u001b[0m\u001b[0;34m\u001b[0m\u001b[0m\n\u001b[1;32m   2253\u001b[0m \u001b[0;32mdef\u001b[0m \u001b[0mimread\u001b[0m\u001b[0;34m(\u001b[0m\u001b[0;34m*\u001b[0m\u001b[0margs\u001b[0m\u001b[0;34m,\u001b[0m \u001b[0;34m**\u001b[0m\u001b[0mkwargs\u001b[0m\u001b[0;34m)\u001b[0m\u001b[0;34m:\u001b[0m\u001b[0;34m\u001b[0m\u001b[0m\n\u001b[0;32m-> 2254\u001b[0;31m     \u001b[0;32mreturn\u001b[0m \u001b[0m_imread\u001b[0m\u001b[0;34m(\u001b[0m\u001b[0;34m*\u001b[0m\u001b[0margs\u001b[0m\u001b[0;34m,\u001b[0m \u001b[0;34m**\u001b[0m\u001b[0mkwargs\u001b[0m\u001b[0;34m)\u001b[0m\u001b[0;34m\u001b[0m\u001b[0m\n\u001b[0m\u001b[1;32m   2255\u001b[0m \u001b[0;34m\u001b[0m\u001b[0m\n\u001b[1;32m   2256\u001b[0m \u001b[0;34m\u001b[0m\u001b[0m\n",
      "\u001b[0;32m/home/selina/anaconda3/lib/python3.5/site-packages/matplotlib/image.py\u001b[0m in \u001b[0;36mimread\u001b[0;34m(fname, format)\u001b[0m\n\u001b[1;32m   1300\u001b[0m \u001b[0;34m\u001b[0m\u001b[0m\n\u001b[1;32m   1301\u001b[0m     \u001b[0;32mif\u001b[0m \u001b[0mext\u001b[0m \u001b[0;32mnot\u001b[0m \u001b[0;32min\u001b[0m \u001b[0mhandlers\u001b[0m\u001b[0;34m:\u001b[0m\u001b[0;34m\u001b[0m\u001b[0m\n\u001b[0;32m-> 1302\u001b[0;31m         \u001b[0mim\u001b[0m \u001b[0;34m=\u001b[0m \u001b[0mpilread\u001b[0m\u001b[0;34m(\u001b[0m\u001b[0mfname\u001b[0m\u001b[0;34m)\u001b[0m\u001b[0;34m\u001b[0m\u001b[0m\n\u001b[0m\u001b[1;32m   1303\u001b[0m         \u001b[0;32mif\u001b[0m \u001b[0mim\u001b[0m \u001b[0;32mis\u001b[0m \u001b[0;32mNone\u001b[0m\u001b[0;34m:\u001b[0m\u001b[0;34m\u001b[0m\u001b[0m\n\u001b[1;32m   1304\u001b[0m             raise ValueError('Only know how to handle extensions: %s; '\n",
      "\u001b[0;32m/home/selina/anaconda3/lib/python3.5/site-packages/matplotlib/image.py\u001b[0m in \u001b[0;36mpilread\u001b[0;34m(fname)\u001b[0m\n\u001b[1;32m   1278\u001b[0m         \u001b[0;32mexcept\u001b[0m \u001b[0mImportError\u001b[0m\u001b[0;34m:\u001b[0m\u001b[0;34m\u001b[0m\u001b[0m\n\u001b[1;32m   1279\u001b[0m             \u001b[0;32mreturn\u001b[0m \u001b[0;32mNone\u001b[0m\u001b[0;34m\u001b[0m\u001b[0m\n\u001b[0;32m-> 1280\u001b[0;31m         \u001b[0;32mwith\u001b[0m \u001b[0mImage\u001b[0m\u001b[0;34m.\u001b[0m\u001b[0mopen\u001b[0m\u001b[0;34m(\u001b[0m\u001b[0mfname\u001b[0m\u001b[0;34m)\u001b[0m \u001b[0;32mas\u001b[0m \u001b[0mimage\u001b[0m\u001b[0;34m:\u001b[0m\u001b[0;34m\u001b[0m\u001b[0m\n\u001b[0m\u001b[1;32m   1281\u001b[0m             \u001b[0;32mreturn\u001b[0m \u001b[0mpil_to_array\u001b[0m\u001b[0;34m(\u001b[0m\u001b[0mimage\u001b[0m\u001b[0;34m)\u001b[0m\u001b[0;34m\u001b[0m\u001b[0m\n\u001b[1;32m   1282\u001b[0m \u001b[0;34m\u001b[0m\u001b[0m\n",
      "\u001b[0;32m/home/selina/anaconda3/lib/python3.5/site-packages/PIL/Image.py\u001b[0m in \u001b[0;36mopen\u001b[0;34m(fp, mode)\u001b[0m\n\u001b[1;32m   2541\u001b[0m \u001b[0;34m\u001b[0m\u001b[0m\n\u001b[1;32m   2542\u001b[0m     \u001b[0;32mif\u001b[0m \u001b[0mfilename\u001b[0m\u001b[0;34m:\u001b[0m\u001b[0;34m\u001b[0m\u001b[0m\n\u001b[0;32m-> 2543\u001b[0;31m         \u001b[0mfp\u001b[0m \u001b[0;34m=\u001b[0m \u001b[0mbuiltins\u001b[0m\u001b[0;34m.\u001b[0m\u001b[0mopen\u001b[0m\u001b[0;34m(\u001b[0m\u001b[0mfilename\u001b[0m\u001b[0;34m,\u001b[0m \u001b[0;34m\"rb\"\u001b[0m\u001b[0;34m)\u001b[0m\u001b[0;34m\u001b[0m\u001b[0m\n\u001b[0m\u001b[1;32m   2544\u001b[0m         \u001b[0mexclusive_fp\u001b[0m \u001b[0;34m=\u001b[0m \u001b[0;32mTrue\u001b[0m\u001b[0;34m\u001b[0m\u001b[0m\n\u001b[1;32m   2545\u001b[0m \u001b[0;34m\u001b[0m\u001b[0m\n",
      "\u001b[0;31mFileNotFoundError\u001b[0m: [Errno 2] No such file or directory: '../CometImages/CA210819/Collated/ControlAsecond/full/bmp/000.bmp'"
     ]
    }
   ],
   "source": [
    "import os\n",
    "import datetime\n",
    "now = datetime.datetime.now()\n",
    "print(\"Date and time \",str(now))\n",
    "#\n",
    "imgIntensities = np.empty((nFiles, 3), dtype = 'object')\n",
    "#\n",
    "for n in range(0, nFiles):\n",
    "    imFile = fileList[n]\n",
    "    fileName = fileNames[n]\n",
    "    #\n",
    "    imgRaw = plt.imread(imFile)\n",
    "    shape = imgRaw.shape\n",
    "    print(\"shape is: \", shape)\n",
    "    nRows = imgRaw.shape[0] # y coordinates\n",
    "    nCols = imgRaw.shape[1] # x ccordinates\n",
    "    if len(shape) == 3:\n",
    "        nDepth = imgRaw.shape[2]\n",
    "    else:\n",
    "        nDepth = 1\n",
    "    # Determine image format and process accordingly\n",
    "    if nDepth == 4:\n",
    "        imgRGB = rgba2rgb(imgRaw)\n",
    "        imgGrey = rgb2grey(imgRGB, 1)\n",
    "    elif nDepth == 3:\n",
    "        imgRGB = imgRaw\n",
    "        imgGrey = rgb2grey(imgRGB, 1)\n",
    "    elif nDepth == 1:\n",
    "        imgRGB = imgRaw\n",
    "        imgGrey = imgRaw\n",
    "    else:\n",
    "        print(\" \")\n",
    "        print(\"Unexpected image depth\",nDepth)\n",
    "        sys.stop()\n",
    "    imgArr = np.zeros((nRows, nCols))\n",
    "    imgArr[:, :] = imgGrey[:, :]\n",
    "    #\n",
    "    maxPix = np.amax(imgArr)\n",
    "    minPix = np.amin(imgArr)\n",
    "    print(\"\\nType of raw image file is\",imgRaw.dtype)\n",
    "    print(\"Type of image file is\",imgArr.dtype)\n",
    "    print(\"\\nNumber of rows\",nRows,\"of columns\",nCols,\"of pixels\",nRows*nCols,\"and depth\",nDepth)\n",
    "    print(\"\\nMaximum value intensity is: \",maxPix)\n",
    "    print(\"\\nMinimum value intensity is: \",minPix)\n",
    "    #\n",
    "    #write values to intensity array\n",
    "    imgIntensities[n, 0] = fileName\n",
    "    imgIntensities[n, 1] = minPix\n",
    "    imgIntensities[n, 2] = maxPix\n",
    "    #\n",
    "print(\"\")\n",
    "print(\"original intensities array is: \", imgIntensities)\n",
    "#\n",
    "\n",
    "#sort imgIntesnities by max intesnity ascending\n",
    "imgIntAsc = imgIntensities[np.argsort(imgIntensities[:, 2])]\n",
    "print(\"\\nsorted intensity array is: \\n\", imgIntAsc)\n",
    "#\n",
    "#make array of all exposure values\n",
    "exposures = np.linspace(1000, 10000, 10, dtype= int)\n",
    "#exposures = np.linspace(500, 3000, 6, dtype = int)\n",
    "print(\"exposure array: \", exposures)\n",
    "#\n",
    "#loop for renaming all bmp files in image_dir according to the sorted intensity array in previous cell\n",
    "for n in range(0, nFiles): \n",
    "    old_path = root_dir + imgIntAsc[n, 0]\n",
    "    new_path = root_dir + dose_key + contrast_key + str(exposures[n]) + \".bmp\"\n",
    "    print(\"old path is: \", old_path)\n",
    "    print(\"new path is: \", new_path)\n",
    "    os.rename(old_path, new_path)\n",
    "#\n",
    "then = now\n",
    "now = datetime.datetime.now()\n",
    "print(\" \")\n",
    "print(\"Date and time\",str(now))\n",
    "print(\"Time since last check is\",str(now - then))"
   ]
  },
  {
   "cell_type": "code",
   "execution_count": null,
   "metadata": {},
   "outputs": [],
   "source": []
  }
 ],
 "metadata": {
  "anaconda-cloud": {},
  "kernelspec": {
   "display_name": "Python [default]",
   "language": "python",
   "name": "python3"
  },
  "language_info": {
   "codemirror_mode": {
    "name": "ipython",
    "version": 3
   },
   "file_extension": ".py",
   "mimetype": "text/x-python",
   "name": "python",
   "nbconvert_exporter": "python",
   "pygments_lexer": "ipython3",
   "version": "3.5.5"
  }
 },
 "nbformat": 4,
 "nbformat_minor": 1
}
